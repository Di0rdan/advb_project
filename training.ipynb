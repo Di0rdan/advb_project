{
 "cells": [
  {
   "cell_type": "code",
   "execution_count": 1,
   "id": "75511a9d",
   "metadata": {},
   "outputs": [],
   "source": [
    "import pandas as pd\n",
    "import numpy as np\n",
    "import matplotlib.pyplot as plt\n",
    "from tqdm.notebook import tqdm\n",
    "\n",
    "from sklearn.metrics import mean_absolute_error as MAE"
   ]
  },
  {
   "cell_type": "code",
   "execution_count": 2,
   "id": "5b3ad3e7",
   "metadata": {},
   "outputs": [],
   "source": [
    "vanila_data = pd.read_csv('../data/train.csv')\n",
    "# vanila_data = pd.read_csv('dataset_ver2.csv')\n",
    "location = pd.read_csv('../data/location.csv', delimiter=';')\n",
    "product = pd.read_csv('../data/product.csv', delimiter=';')\n",
    "vanila_test = pd.read_csv('../data/test.csv')"
   ]
  },
  {
   "cell_type": "code",
   "execution_count": 3,
   "id": "1f71ab7d",
   "metadata": {},
   "outputs": [],
   "source": [
    "# def read_ts_dataset(path):\n",
    "#     res = pd.read_csv(path)\n",
    "#     res.index = res.week_num.astype(int)\n",
    "#     res = res.reindex(np.arange(1, 160))\n",
    "#     res = res.drop(columns=['week_num'])\n",
    "#     return res\n",
    "\n",
    "# loc_prod_ts = read_ts_dataset('timeseries/loc_prod.csv')\n",
    "# loc_prodRK_ts = read_ts_dataset('timeseries/loc_prodRK6.csv')\n",
    "# locRK_prod_ts = read_ts_dataset('timeseries/locRK3_prod.csv')\n",
    "# locRK_prodRK_ts = read_ts_dataset('timeseries/locRK3_prodRK6.csv')"
   ]
  },
  {
   "cell_type": "code",
   "execution_count": null,
   "id": "c3c170b4",
   "metadata": {},
   "outputs": [],
   "source": []
  },
  {
   "cell_type": "code",
   "execution_count": 4,
   "id": "f7d9b0f1",
   "metadata": {},
   "outputs": [],
   "source": [
    "# создаем \"тупые\" фичи\n",
    "\n",
    "data = vanila_data[(~vanila_data.location_id.isna()) & (~vanila_data.product_id.isna())].copy()\n",
    "\n",
    "data['sale'] = (data['PRICE_REGULAR'] - data['PRICE_AFTER_DISC'])\n",
    "data['sale_part'] = (data['PRICE_REGULAR'] - data['PRICE_AFTER_DISC']) / data['PRICE_REGULAR']\n",
    "data['period_dt'] = pd.to_datetime(data[\"period_dt\"])\n",
    "data['week_in_year'] = data[\"period_dt\"].dt.isocalendar().week.astype(int)\n",
    "data['year_num'] = data[\"period_dt\"].dt.isocalendar().year.astype(int) - 2016\n",
    "data['week_num'] = data['week_in_year'] + data['year_num']*52 - 50\n",
    "\n",
    "data.sort_values(by=['week_num'], inplace=True)"
   ]
  },
  {
   "cell_type": "code",
   "execution_count": 5,
   "id": "538786b7",
   "metadata": {},
   "outputs": [],
   "source": [
    "# is_first -- индикатор [первый раз встретилась пара product_id - location_id]\n",
    "\n",
    "data['num_hist'] = -1\n",
    "\n",
    "pos = pd.MultiIndex.from_frame(data.groupby(by=['location_id', 'product_id']).week_num.nth(0).reset_index())\n",
    "data.index = pd.MultiIndex.from_frame(data[['location_id', 'product_id', 'week_num']])\n",
    "data.loc[pos, 'num_hist'] = 1\n",
    "data.index = data.id\n",
    "\n",
    "pos = pd.MultiIndex.from_frame(data.groupby(by=['location_id', 'product_id']).week_num.nth(1).reset_index())\n",
    "data.index = pd.MultiIndex.from_frame(data[['location_id', 'product_id', 'week_num']])\n",
    "data.loc[pos, 'num_hist'] = 2\n",
    "data.index = data.id\n",
    "\n",
    "# pos = pd.MultiIndex.from_frame(data.groupby(by=['location_id', 'product_id']).week_num.nth(3).reset_index())\n",
    "# data.index = pd.MultiIndex.from_frame(data[['location_id', 'product_id', 'week_num']])\n",
    "# data.loc[pos, 'num_hist'] = 3\n",
    "# data.index = data.id\n",
    "\n",
    "# pos = pd.MultiIndex.from_frame(data.groupby(by=['location_id', 'product_id']).week_num.nth(4).reset_index())\n",
    "# data.index = pd.MultiIndex.from_frame(data[['location_id', 'product_id', 'week_num']])\n",
    "# data.loc[pos, 'num_hist'] = 4\n",
    "# data.index = data.id"
   ]
  },
  {
   "cell_type": "code",
   "execution_count": 6,
   "id": "57d228c4",
   "metadata": {},
   "outputs": [],
   "source": [
    "data = data[data.num_hist != -1]"
   ]
  },
  {
   "cell_type": "code",
   "execution_count": 7,
   "id": "f8f133c1",
   "metadata": {},
   "outputs": [],
   "source": [
    "# фиксируем индексы валидационной выборки\n",
    "\n",
    "validation_weeks = [104, 105, 106, 107]\n",
    "validation_ids = data[data.week_num.isin(validation_weeks) & (data.num_hist == 1)].id\n",
    "\n",
    "# выкидываем на всякий случай прошлогоднюю неделю\n",
    "\n",
    "# data = data[~data.week_num.isin(validation_weeks)]"
   ]
  },
  {
   "cell_type": "code",
   "execution_count": 8,
   "id": "5de5add9",
   "metadata": {},
   "outputs": [],
   "source": [
    "# tmp = loc_prod_ts.ewm(halflife=3, ignore_na=True).mean()"
   ]
  },
  {
   "cell_type": "code",
   "execution_count": 9,
   "id": "bf143f13",
   "metadata": {},
   "outputs": [],
   "source": [
    "# %%time\n",
    "# a = 0\n",
    "# for week_num in tqdm(tmp.index):\n",
    "#     for column in tmp.columns[~tmp.isna().all()]:\n",
    "#         a += 1\n",
    "# print(a)"
   ]
  },
  {
   "cell_type": "code",
   "execution_count": 10,
   "id": "baf83e67",
   "metadata": {},
   "outputs": [],
   "source": [
    "# tmp.stack().index#.apply(lambda row: (row[0], int(float(row[1].split('_')[0][5:]))))"
   ]
  },
  {
   "cell_type": "code",
   "execution_count": 11,
   "id": "13d2d895",
   "metadata": {},
   "outputs": [],
   "source": [
    "# locRK_prodRK_ts.loc[155, :].isna().sum()"
   ]
  },
  {
   "cell_type": "code",
   "execution_count": 12,
   "id": "502cb63e",
   "metadata": {},
   "outputs": [],
   "source": [
    "# locRK_prodRK_ts.shape"
   ]
  },
  {
   "cell_type": "code",
   "execution_count": 13,
   "id": "09148c83",
   "metadata": {},
   "outputs": [],
   "source": [
    "# pd.Series([1, 1, 0, 0]).ewm(halflife=4).mean()"
   ]
  },
  {
   "cell_type": "code",
   "execution_count": 14,
   "id": "f2e2c8b5",
   "metadata": {},
   "outputs": [],
   "source": [
    "data.index = data.location_id\n",
    "location.index = location.STORE_LOCATION_RK\n",
    "data = data.join(location.drop(columns=['STORE_LOCATION_RK']), rsuffix='_location')\n",
    "\n"
   ]
  },
  {
   "cell_type": "code",
   "execution_count": 15,
   "id": "289f053f",
   "metadata": {},
   "outputs": [],
   "source": [
    "# добавляем параметры локации и продукта\n",
    "\n",
    "data.index = data.location_id\n",
    "location.index = location.STORE_LOCATION_RK\n",
    "data = data.join(location.drop(columns=['STORE_LOCATION_RK']), rsuffix='_location')\n",
    "\n",
    "# data.index = data.product_id\n",
    "# product.index = product.PRODUCT_RK\n",
    "# data = data.join(product.drop(columns=['PRODUCT_RK']), rsuffix='_product')\n",
    "\n",
    "data.index = data.id"
   ]
  },
  {
   "cell_type": "code",
   "execution_count": 16,
   "id": "19137e65",
   "metadata": {},
   "outputs": [],
   "source": [
    "mean_at_loc_RK = data.groupby(by='STORE_LOCATION_LVL_RK3').demand.mean()\n",
    "# mean_at_prod_RK = data.groupby(by='PRODUCT_LVL_RK6').demand.mean()\n",
    "\n",
    "data.index = data.STORE_LOCATION_LVL_RK3\n",
    "data['mean_at_loc_RK'] = mean_at_loc_RK\n",
    "\n",
    "# data.index = data.PRODUCT_LVL_RK6\n",
    "# data['mean_at_prod_RK'] = mean_at_prod_RK\n"
   ]
  },
  {
   "cell_type": "code",
   "execution_count": null,
   "id": "539e8f43",
   "metadata": {},
   "outputs": [],
   "source": []
  },
  {
   "cell_type": "code",
   "execution_count": 17,
   "id": "2ef51036",
   "metadata": {},
   "outputs": [
    {
     "data": {
      "text/plain": [
       "STORE_LOCATION_LVL_RK3\n",
       "203    51\n",
       "203    51\n",
       "203    51\n",
       "203    51\n",
       "203    51\n",
       "       ..\n",
       "219     1\n",
       "219     1\n",
       "219     1\n",
       "219     1\n",
       "219     1\n",
       "Name: week_in_year, Length: 42075, dtype: int64"
      ]
     },
     "execution_count": 17,
     "metadata": {},
     "output_type": "execute_result"
    }
   ],
   "source": [
    "data.week_in_year"
   ]
  },
  {
   "cell_type": "code",
   "execution_count": 18,
   "id": "879e0a73",
   "metadata": {},
   "outputs": [],
   "source": [
    "# Средние значения ответа\n",
    "group_all = data[['week_in_year', 'location_id', 'demand']].groupby(by=['week_in_year', 'location_id'], as_index=False).mean()\n",
    "\n",
    "group_date = data[['week_in_year', 'demand']].groupby(by=['week_in_year'], as_index=False).mean()\n",
    "\n",
    "data = data.merge(group_all, on=['week_in_year', 'location_id'], how='left', suffixes=('', '_all'))\n",
    "# test_data = test_data.merge(group_all, on=['week_in_year', 'location_id'], how='left', suffixes=('', '_all'))\n",
    "data = data.merge(group_date, on=['week_in_year'], how='left', suffixes=('', '_new'))\n",
    "# test_data = test_data.merge(group_date, on=['week_in_year'], how='left', suffixes=('', '_new'))\n",
    "\n"
   ]
  },
  {
   "cell_type": "code",
   "execution_count": 19,
   "id": "799f1b82",
   "metadata": {},
   "outputs": [],
   "source": [
    "mean_at_loc_id = data.groupby(by='location_id').demand.mean()\n",
    "mean_at_prod_id = data.groupby(by='product_id').demand.mean()\n",
    "\n",
    "data.index = data.location_id\n",
    "data['mean_at_loc_id'] = mean_at_loc_id\n",
    "\n",
    "data.index = data.product_id\n",
    "data['mean_at_prod_id'] = mean_at_prod_id\n"
   ]
  },
  {
   "cell_type": "code",
   "execution_count": 20,
   "id": "ca337e6e",
   "metadata": {},
   "outputs": [],
   "source": [
    "data.index = data.id"
   ]
  },
  {
   "cell_type": "code",
   "execution_count": null,
   "id": "7a2528d4",
   "metadata": {},
   "outputs": [],
   "source": []
  },
  {
   "cell_type": "code",
   "execution_count": null,
   "id": "ca9c89e4",
   "metadata": {},
   "outputs": [],
   "source": []
  },
  {
   "cell_type": "code",
   "execution_count": 21,
   "id": "900c2e7c",
   "metadata": {},
   "outputs": [],
   "source": [
    "# определяем категориальные фичи\n",
    "\n",
    "categorical_columns = [\n",
    "    'location_id',\n",
    "    'product_id',\n",
    "    'PROMO1_FLAG',\n",
    "    'PROMO2_FLAG',\n",
    "    'AUTORIZATION_FLAG',\n",
    "#     'special_week',\n",
    "    'STORE_LOCATION_LVL_RK4',\n",
    "    'STORE_LOCATION_LVL_RK3',\n",
    "    'week_in_year',\n",
    "#     'PRODUCT_LVL_RK6',\n",
    "] + [\n",
    "    column for column in data if column.find('hashing') != -1\n",
    "]"
   ]
  },
  {
   "cell_type": "code",
   "execution_count": 22,
   "id": "0a0c872c",
   "metadata": {},
   "outputs": [],
   "source": [
    "# фильтруем строчки\n",
    "\n",
    "# for column in tqdm(categorical_columns):\n",
    "#     data = data[data[column].isin(data.loc[vanila_test.id, column].unique())]\n",
    "\n",
    "# data = data[data.week_in_year.isin([1, 50, 51, 52])]"
   ]
  },
  {
   "cell_type": "code",
   "execution_count": null,
   "id": "bfa0e819",
   "metadata": {},
   "outputs": [],
   "source": []
  },
  {
   "cell_type": "code",
   "execution_count": 23,
   "id": "15d520e9",
   "metadata": {},
   "outputs": [
    {
     "data": {
      "application/vnd.jupyter.widget-view+json": {
       "model_id": "183ab68cdfcb4c9a80707ae4042e14f8",
       "version_major": 2,
       "version_minor": 0
      },
      "text/plain": [
       "  0%|          | 0/84 [00:00<?, ?it/s]"
      ]
     },
     "metadata": {},
     "output_type": "display_data"
    },
    {
     "data": {
      "application/vnd.jupyter.widget-view+json": {
       "model_id": "e9385291451141a6a735a7be6fff9b83",
       "version_major": 2,
       "version_minor": 0
      },
      "text/plain": [
       "  0%|          | 0/115 [00:00<?, ?it/s]"
      ]
     },
     "metadata": {},
     "output_type": "display_data"
    },
    {
     "data": {
      "application/vnd.jupyter.widget-view+json": {
       "model_id": "d283ae57a222474f8f1954ec0072828f",
       "version_major": 2,
       "version_minor": 0
      },
      "text/plain": [
       "  0%|          | 0/39 [00:00<?, ?it/s]"
      ]
     },
     "metadata": {},
     "output_type": "display_data"
    }
   ],
   "source": [
    "# фильтруем столбики\n",
    "\n",
    "def get_large_nunique_columns(df, subset_columns=None, nunique_trhld = 100):\n",
    "    res = []\n",
    "    columns = subset_columns\n",
    "    if subset_columns is None:\n",
    "        columns = df.columns\n",
    "    for column in tqdm(columns):\n",
    "        if df[column].nunique() > nunique_trhld:\n",
    "            res.append(column)\n",
    "    return res\n",
    "\n",
    "bad_features = [\n",
    "    'period_dt',\n",
    "    'id',\n",
    "    'product_id',\n",
    "    'VALID_FROM_DTTM',\n",
    "    'VALID_TO_DTTM',\n",
    "    'PROCESSED_DTTM',\n",
    "#     'VALID_FROM_DTTM_product',\n",
    "#     'VALID_TO_DTTM_product',\n",
    "#     'PROCESSED_DTTM_product',\n",
    "    'year_num',\n",
    "    'week_num',\n",
    "]\n",
    "\n",
    "bad_features.extend(get_large_nunique_columns(\n",
    "    data, \n",
    "    subset_columns=categorical_columns,\n",
    "    nunique_trhld=100,\n",
    "))\n",
    "\n",
    "bad_features.extend([\n",
    "    column for column in tqdm(data.drop(columns=['demand']).columns) if\n",
    "    data.loc[data.id, column].nunique() < 2\n",
    "])\n",
    "\n",
    "data = data.drop(columns=bad_features)\n",
    "categorical_columns = list(set(categorical_columns) - set(bad_features))\n",
    "for column in tqdm(categorical_columns):\n",
    "    data[column] = data[column].fillna('NaN').astype(str)"
   ]
  },
  {
   "cell_type": "code",
   "execution_count": null,
   "id": "46a5ca12",
   "metadata": {},
   "outputs": [],
   "source": []
  },
  {
   "cell_type": "code",
   "execution_count": 24,
   "id": "0d6d9f43",
   "metadata": {},
   "outputs": [],
   "source": [
    "valid = data[data.index.isin(validation_ids)]\n",
    "valid_target = valid['demand']\n",
    "valid = valid.drop(columns=['demand'])\n",
    "train = data[(~data.demand.isna()) & (~data.index.isin(valid.index))\n",
    "            ].drop(columns=['demand'])\n",
    "test = data.loc[vanila_test.id, :].drop(columns=['demand'])\n",
    "target = data.loc[train.index, 'demand']"
   ]
  },
  {
   "cell_type": "code",
   "execution_count": null,
   "id": "857e1290",
   "metadata": {},
   "outputs": [],
   "source": []
  },
  {
   "cell_type": "code",
   "execution_count": 25,
   "id": "36054293",
   "metadata": {},
   "outputs": [],
   "source": [
    "lims = [0.0, 0.99, 1.01, 1.5, 1.9, 2.1, 2.8, np.inf]"
   ]
  },
  {
   "cell_type": "code",
   "execution_count": 26,
   "id": "06d3be1d",
   "metadata": {},
   "outputs": [],
   "source": [
    "def make_classes(lims, target):\n",
    "    target_classify = target.copy()\n",
    "    target_classify.iloc[:] = 1\n",
    "    \n",
    "    for i in range(len(lims)-1):\n",
    "        l, r = lims[i], lims[i+1]\n",
    "        mask = (target >= l) & (target < r)\n",
    "        value = target[mask].quantile(0.5)\n",
    "        target_classify[mask] = value\n",
    "    \n",
    "    return target_classify"
   ]
  },
  {
   "cell_type": "code",
   "execution_count": null,
   "id": "6052dd8c",
   "metadata": {},
   "outputs": [],
   "source": []
  },
  {
   "cell_type": "code",
   "execution_count": 27,
   "id": "f9ef578f",
   "metadata": {},
   "outputs": [],
   "source": [
    "target_classify = make_classes(lims, target)\n",
    "valid_class = make_classes(lims, valid_target)"
   ]
  },
  {
   "cell_type": "code",
   "execution_count": 28,
   "id": "608330cf",
   "metadata": {},
   "outputs": [
    {
     "data": {
      "text/plain": [
       "array([0.010363, 1.      , 1.625   , 1.059701, 3.666667, 2.      ,\n",
       "       2.30303 ])"
      ]
     },
     "execution_count": 28,
     "metadata": {},
     "output_type": "execute_result"
    }
   ],
   "source": [
    "target_classify.unique()"
   ]
  },
  {
   "cell_type": "code",
   "execution_count": 29,
   "id": "5a170b98",
   "metadata": {},
   "outputs": [],
   "source": [
    "# # class_weights = {\n",
    "# #     value: 1\n",
    "# #     for value in target_classify.unique()\n",
    "# # }\n",
    "class_weights = {\n",
    "    value: 1 if value <= 1 else 10\n",
    "    for value in target_classify\n",
    "}\n",
    "# class_weights"
   ]
  },
  {
   "cell_type": "code",
   "execution_count": 30,
   "id": "6956ceb3",
   "metadata": {},
   "outputs": [],
   "source": [
    "from catboost import CatBoostClassifier, CatBoostRegressor\n",
    "from sklearn.utils.class_weight import compute_class_weight"
   ]
  },
  {
   "cell_type": "code",
   "execution_count": null,
   "id": "165f6610",
   "metadata": {},
   "outputs": [],
   "source": []
  },
  {
   "cell_type": "code",
   "execution_count": 31,
   "id": "68e34b4e",
   "metadata": {
    "scrolled": true
   },
   "outputs": [],
   "source": [
    "# from catboost import CatBoostClassifier, Pool\n",
    "# # X, y = train.drop(columns=['demand', 'demand_class']), train_data['demand_class']\n",
    "# data = Pool(train, target_classify, cat_features=categorical_columns)\n",
    "# # param_distributions = {'learning_rate': [0.03, 0.1, 0.2, 0.4, 0.6],\n",
    "# #                         'depth': [3, 4, 6, 7],\n",
    "# #                         'l2_leaf_reg': np.arange(0.03, 4, 4),\n",
    "                       \n",
    "# #                       }\n",
    "# model_class = CatBoostClassifier(\n",
    "# #     silent=True, \n",
    "#     random_seed=42, \n",
    "#     eval_metric='Accuracy', \n",
    "#     n_estimators=350, \n",
    "#     cat_features=categorical_columns)\n",
    "# # model_class.randomized_search(param_distributions, data, n_iter=18)\n",
    "# model_class.fit(data)"
   ]
  },
  {
   "cell_type": "code",
   "execution_count": null,
   "id": "1452390b",
   "metadata": {},
   "outputs": [],
   "source": []
  },
  {
   "cell_type": "code",
   "execution_count": 32,
   "id": "6890109b",
   "metadata": {
    "scrolled": true
   },
   "outputs": [
    {
     "name": "stdout",
     "output_type": "stream",
     "text": [
      "Learning rate set to 0.231982\n",
      "0:\tlearn: 0.4617624\ttotal: 439ms\tremaining: 2m 33s\n",
      "1:\tlearn: 0.5005246\ttotal: 1.17s\tremaining: 3m 23s\n",
      "2:\tlearn: 0.5024433\ttotal: 1.85s\tremaining: 3m 33s\n",
      "3:\tlearn: 0.5086154\ttotal: 2.26s\tremaining: 3m 15s\n",
      "4:\tlearn: 0.5153640\ttotal: 2.89s\tremaining: 3m 19s\n",
      "5:\tlearn: 0.5179822\ttotal: 3.67s\tremaining: 3m 30s\n",
      "6:\tlearn: 0.5241826\ttotal: 4.18s\tremaining: 3m 24s\n",
      "7:\tlearn: 0.5268670\ttotal: 4.57s\tremaining: 3m 15s\n",
      "8:\tlearn: 0.5279067\ttotal: 4.84s\tremaining: 3m 3s\n",
      "9:\tlearn: 0.5298349\ttotal: 5.72s\tremaining: 3m 14s\n",
      "10:\tlearn: 0.5317253\ttotal: 6.64s\tremaining: 3m 24s\n",
      "11:\tlearn: 0.5331241\ttotal: 7.03s\tremaining: 3m 18s\n",
      "12:\tlearn: 0.5348444\ttotal: 7.91s\tremaining: 3m 25s\n",
      "13:\tlearn: 0.5351090\ttotal: 8.19s\tremaining: 3m 16s\n",
      "14:\tlearn: 0.5371790\ttotal: 8.69s\tremaining: 3m 14s\n",
      "15:\tlearn: 0.5411393\ttotal: 9.31s\tremaining: 3m 14s\n",
      "16:\tlearn: 0.5413000\ttotal: 10.1s\tremaining: 3m 18s\n",
      "17:\tlearn: 0.5420278\ttotal: 10.5s\tremaining: 3m 14s\n",
      "18:\tlearn: 0.5457140\ttotal: 11.5s\tremaining: 3m 20s\n",
      "19:\tlearn: 0.5455345\ttotal: 11.8s\tremaining: 3m 14s\n",
      "20:\tlearn: 0.5484740\ttotal: 12.7s\tremaining: 3m 18s\n",
      "21:\tlearn: 0.5497027\ttotal: 13.5s\tremaining: 3m 21s\n",
      "22:\tlearn: 0.5495988\ttotal: 14.6s\tremaining: 3m 27s\n",
      "23:\tlearn: 0.5510071\ttotal: 15.5s\tremaining: 3m 30s\n",
      "24:\tlearn: 0.5520090\ttotal: 16.3s\tremaining: 3m 32s\n",
      "25:\tlearn: 0.5532283\ttotal: 17.3s\tremaining: 3m 35s\n",
      "26:\tlearn: 0.5528786\ttotal: 18.3s\tremaining: 3m 38s\n",
      "27:\tlearn: 0.5534835\ttotal: 18.6s\tremaining: 3m 33s\n",
      "28:\tlearn: 0.5542585\ttotal: 19.5s\tremaining: 3m 36s\n",
      "29:\tlearn: 0.5546083\ttotal: 20.4s\tremaining: 3m 37s\n",
      "30:\tlearn: 0.5544003\ttotal: 21.3s\tremaining: 3m 39s\n",
      "31:\tlearn: 0.5558465\ttotal: 22s\tremaining: 3m 38s\n",
      "32:\tlearn: 0.5558465\ttotal: 22.1s\tremaining: 3m 32s\n",
      "33:\tlearn: 0.5557708\ttotal: 22.3s\tremaining: 3m 27s\n",
      "34:\tlearn: 0.5574249\ttotal: 23.1s\tremaining: 3m 27s\n",
      "35:\tlearn: 0.5587009\ttotal: 23.9s\tremaining: 3m 28s\n",
      "36:\tlearn: 0.5612435\ttotal: 24.6s\tremaining: 3m 28s\n",
      "37:\tlearn: 0.5615932\ttotal: 25.5s\tremaining: 3m 29s\n",
      "38:\tlearn: 0.5618390\ttotal: 26.5s\tremaining: 3m 31s\n",
      "39:\tlearn: 0.5625479\ttotal: 26.8s\tremaining: 3m 27s\n",
      "40:\tlearn: 0.5623494\ttotal: 27.7s\tremaining: 3m 28s\n",
      "41:\tlearn: 0.5638711\ttotal: 28.7s\tremaining: 3m 30s\n",
      "42:\tlearn: 0.5641736\ttotal: 29.7s\tremaining: 3m 32s\n",
      "43:\tlearn: 0.5651093\ttotal: 30.7s\tremaining: 3m 33s\n",
      "44:\tlearn: 0.5648069\ttotal: 31s\tremaining: 3m 29s\n",
      "45:\tlearn: 0.5665460\ttotal: 31.8s\tremaining: 3m 30s\n",
      "46:\tlearn: 0.5681528\ttotal: 32.5s\tremaining: 3m 29s\n",
      "47:\tlearn: 0.5686160\ttotal: 33.4s\tremaining: 3m 30s\n",
      "48:\tlearn: 0.5702606\ttotal: 34.2s\tremaining: 3m 29s\n",
      "49:\tlearn: 0.5728126\ttotal: 35s\tremaining: 3m 30s\n",
      "50:\tlearn: 0.5741831\ttotal: 35.8s\tremaining: 3m 29s\n",
      "51:\tlearn: 0.5760357\ttotal: 36.8s\tremaining: 3m 31s\n",
      "52:\tlearn: 0.5758183\ttotal: 37.7s\tremaining: 3m 31s\n",
      "53:\tlearn: 0.5777748\ttotal: 38.7s\tremaining: 3m 31s\n",
      "54:\tlearn: 0.5788996\ttotal: 39.3s\tremaining: 3m 30s\n",
      "55:\tlearn: 0.5805442\ttotal: 40.1s\tremaining: 3m 30s\n",
      "56:\tlearn: 0.5814233\ttotal: 40.9s\tremaining: 3m 30s\n",
      "57:\tlearn: 0.5831246\ttotal: 41.7s\tremaining: 3m 29s\n",
      "58:\tlearn: 0.5849205\ttotal: 42.6s\tremaining: 3m 30s\n",
      "59:\tlearn: 0.5863382\ttotal: 43.4s\tremaining: 3m 29s\n",
      "60:\tlearn: 0.5869904\ttotal: 44.3s\tremaining: 3m 29s\n",
      "61:\tlearn: 0.5868014\ttotal: 45.1s\tremaining: 3m 29s\n",
      "62:\tlearn: 0.5889186\ttotal: 45.9s\tremaining: 3m 29s\n",
      "63:\tlearn: 0.5891266\ttotal: 46.8s\tremaining: 3m 29s\n",
      "64:\tlearn: 0.5898165\ttotal: 47.7s\tremaining: 3m 29s\n",
      "65:\tlearn: 0.5917825\ttotal: 48.4s\tremaining: 3m 28s\n",
      "66:\tlearn: 0.5933137\ttotal: 49.4s\tremaining: 3m 28s\n",
      "67:\tlearn: 0.5941833\ttotal: 50.4s\tremaining: 3m 29s\n",
      "68:\tlearn: 0.5953648\ttotal: 51.2s\tremaining: 3m 28s\n",
      "69:\tlearn: 0.5959981\ttotal: 52.1s\tremaining: 3m 28s\n",
      "70:\tlearn: 0.5976805\ttotal: 52.9s\tremaining: 3m 27s\n",
      "71:\tlearn: 0.5983232\ttotal: 53.7s\tremaining: 3m 27s\n",
      "72:\tlearn: 0.5988903\ttotal: 54.7s\tremaining: 3m 27s\n",
      "73:\tlearn: 0.6009509\ttotal: 55.5s\tremaining: 3m 26s\n",
      "74:\tlearn: 0.6018488\ttotal: 56.2s\tremaining: 3m 26s\n",
      "75:\tlearn: 0.6030681\ttotal: 57s\tremaining: 3m 25s\n",
      "76:\tlearn: 0.6033989\ttotal: 57.9s\tremaining: 3m 25s\n",
      "77:\tlearn: 0.6052137\ttotal: 58.7s\tremaining: 3m 24s\n",
      "78:\tlearn: 0.6067827\ttotal: 59.6s\tremaining: 3m 24s\n",
      "79:\tlearn: 0.6073781\ttotal: 1m\tremaining: 3m 24s\n",
      "80:\tlearn: 0.6086825\ttotal: 1m 1s\tremaining: 3m 24s\n",
      "81:\tlearn: 0.6086163\ttotal: 1m 2s\tremaining: 3m 23s\n",
      "82:\tlearn: 0.6108659\ttotal: 1m 3s\tremaining: 3m 23s\n",
      "83:\tlearn: 0.6115370\ttotal: 1m 4s\tremaining: 3m 24s\n",
      "84:\tlearn: 0.6120285\ttotal: 1m 5s\tremaining: 3m 24s\n",
      "85:\tlearn: 0.6128130\ttotal: 1m 6s\tremaining: 3m 23s\n",
      "86:\tlearn: 0.6123498\ttotal: 1m 7s\tremaining: 3m 23s\n",
      "87:\tlearn: 0.6129075\ttotal: 1m 8s\tremaining: 3m 23s\n",
      "88:\tlearn: 0.6129831\ttotal: 1m 9s\tremaining: 3m 22s\n",
      "89:\tlearn: 0.6138432\ttotal: 1m 10s\tremaining: 3m 22s\n",
      "90:\tlearn: 0.6156202\ttotal: 1m 11s\tremaining: 3m 22s\n",
      "91:\tlearn: 0.6154311\ttotal: 1m 11s\tremaining: 3m 21s\n",
      "92:\tlearn: 0.6164803\ttotal: 1m 12s\tremaining: 3m 21s\n",
      "93:\tlearn: 0.6177941\ttotal: 1m 13s\tremaining: 3m 20s\n",
      "94:\tlearn: 0.6180021\ttotal: 1m 14s\tremaining: 3m 20s\n",
      "95:\tlearn: 0.6199870\ttotal: 1m 15s\tremaining: 3m 20s\n",
      "96:\tlearn: 0.6203272\ttotal: 1m 16s\tremaining: 3m 19s\n",
      "97:\tlearn: 0.6214804\ttotal: 1m 17s\tremaining: 3m 19s\n",
      "98:\tlearn: 0.6219719\ttotal: 1m 18s\tremaining: 3m 18s\n",
      "99:\tlearn: 0.6227658\ttotal: 1m 19s\tremaining: 3m 18s\n",
      "100:\tlearn: 0.6231911\ttotal: 1m 20s\tremaining: 3m 18s\n",
      "101:\tlearn: 0.6246373\ttotal: 1m 21s\tremaining: 3m 17s\n",
      "102:\tlearn: 0.6244010\ttotal: 1m 22s\tremaining: 3m 16s\n",
      "103:\tlearn: 0.6255541\ttotal: 1m 22s\tremaining: 3m 16s\n",
      "104:\tlearn: 0.6255163\ttotal: 1m 23s\tremaining: 3m 15s\n",
      "105:\tlearn: 0.6261212\ttotal: 1m 24s\tremaining: 3m 15s\n",
      "106:\tlearn: 0.6278320\ttotal: 1m 25s\tremaining: 3m 14s\n",
      "107:\tlearn: 0.6280967\ttotal: 1m 26s\tremaining: 3m 14s\n",
      "108:\tlearn: 0.6293632\ttotal: 1m 27s\tremaining: 3m 13s\n",
      "109:\tlearn: 0.6299209\ttotal: 1m 28s\tremaining: 3m 13s\n",
      "110:\tlearn: 0.6318113\ttotal: 1m 29s\tremaining: 3m 12s\n",
      "111:\tlearn: 0.6324162\ttotal: 1m 30s\tremaining: 3m 11s\n",
      "112:\tlearn: 0.6323689\ttotal: 1m 31s\tremaining: 3m 11s\n",
      "113:\tlearn: 0.6335410\ttotal: 1m 32s\tremaining: 3m 10s\n",
      "114:\tlearn: 0.6343633\ttotal: 1m 32s\tremaining: 3m 10s\n",
      "115:\tlearn: 0.6357716\ttotal: 1m 33s\tremaining: 3m 9s\n",
      "116:\tlearn: 0.6371705\ttotal: 1m 34s\tremaining: 3m 8s\n",
      "117:\tlearn: 0.6374918\ttotal: 1m 35s\tremaining: 3m 8s\n",
      "118:\tlearn: 0.6384937\ttotal: 1m 36s\tremaining: 3m 7s\n",
      "119:\tlearn: 0.6390798\ttotal: 1m 37s\tremaining: 3m 6s\n",
      "120:\tlearn: 0.6393444\ttotal: 1m 38s\tremaining: 3m 6s\n",
      "121:\tlearn: 0.6402234\ttotal: 1m 39s\tremaining: 3m 5s\n",
      "122:\tlearn: 0.6412253\ttotal: 1m 40s\tremaining: 3m 4s\n",
      "123:\tlearn: 0.6423690\ttotal: 1m 40s\tremaining: 3m 3s\n",
      "124:\tlearn: 0.6430590\ttotal: 1m 41s\tremaining: 3m 3s\n",
      "125:\tlearn: 0.6431724\ttotal: 1m 42s\tremaining: 3m 2s\n",
      "126:\tlearn: 0.6439286\ttotal: 1m 43s\tremaining: 3m 2s\n",
      "127:\tlearn: 0.6456394\ttotal: 1m 44s\tremaining: 3m 1s\n",
      "128:\tlearn: 0.6459418\ttotal: 1m 45s\tremaining: 3m\n",
      "129:\tlearn: 0.6467263\ttotal: 1m 46s\tremaining: 2m 59s\n",
      "130:\tlearn: 0.6471328\ttotal: 1m 47s\tremaining: 2m 59s\n",
      "131:\tlearn: 0.6473596\ttotal: 1m 48s\tremaining: 2m 58s\n",
      "132:\tlearn: 0.6482954\ttotal: 1m 48s\tremaining: 2m 57s\n",
      "133:\tlearn: 0.6482575\ttotal: 1m 49s\tremaining: 2m 56s\n",
      "134:\tlearn: 0.6488436\ttotal: 1m 50s\tremaining: 2m 56s\n",
      "135:\tlearn: 0.6503275\ttotal: 1m 51s\tremaining: 2m 55s\n",
      "136:\tlearn: 0.6497604\ttotal: 1m 52s\tremaining: 2m 54s\n",
      "137:\tlearn: 0.6509324\ttotal: 1m 53s\tremaining: 2m 54s\n",
      "138:\tlearn: 0.6510553\ttotal: 1m 54s\tremaining: 2m 53s\n",
      "139:\tlearn: 0.6515657\ttotal: 1m 55s\tremaining: 2m 53s\n",
      "140:\tlearn: 0.6523880\ttotal: 1m 56s\tremaining: 2m 52s\n",
      "141:\tlearn: 0.6536924\ttotal: 1m 57s\tremaining: 2m 51s\n",
      "142:\tlearn: 0.6544296\ttotal: 1m 57s\tremaining: 2m 50s\n",
      "143:\tlearn: 0.6553087\ttotal: 1m 58s\tremaining: 2m 50s\n",
      "144:\tlearn: 0.6553559\ttotal: 1m 59s\tremaining: 2m 49s\n",
      "145:\tlearn: 0.6549967\ttotal: 2m\tremaining: 2m 48s\n",
      "146:\tlearn: 0.6550535\ttotal: 2m 1s\tremaining: 2m 47s\n",
      "147:\tlearn: 0.6557907\ttotal: 2m 2s\tremaining: 2m 47s\n",
      "148:\tlearn: 0.6563862\ttotal: 2m 3s\tremaining: 2m 46s\n",
      "149:\tlearn: 0.6572557\ttotal: 2m 4s\tremaining: 2m 45s\n",
      "150:\tlearn: 0.6578512\ttotal: 2m 5s\tremaining: 2m 44s\n",
      "151:\tlearn: 0.6591650\ttotal: 2m 5s\tremaining: 2m 44s\n",
      "152:\tlearn: 0.6595336\ttotal: 2m 6s\tremaining: 2m 43s\n",
      "153:\tlearn: 0.6609892\ttotal: 2m 7s\tremaining: 2m 42s\n",
      "154:\tlearn: 0.6620478\ttotal: 2m 8s\tremaining: 2m 42s\n",
      "155:\tlearn: 0.6626906\ttotal: 2m 9s\tremaining: 2m 41s\n"
     ]
    },
    {
     "name": "stdout",
     "output_type": "stream",
     "text": [
      "156:\tlearn: 0.6634751\ttotal: 2m 10s\tremaining: 2m 40s\n",
      "157:\tlearn: 0.6635696\ttotal: 2m 11s\tremaining: 2m 39s\n",
      "158:\tlearn: 0.6641178\ttotal: 2m 12s\tremaining: 2m 38s\n",
      "159:\tlearn: 0.6651481\ttotal: 2m 13s\tremaining: 2m 38s\n",
      "160:\tlearn: 0.6660649\ttotal: 2m 14s\tremaining: 2m 37s\n",
      "161:\tlearn: 0.6657057\ttotal: 2m 14s\tremaining: 2m 36s\n",
      "162:\tlearn: 0.6665942\ttotal: 2m 15s\tremaining: 2m 35s\n",
      "163:\tlearn: 0.6670290\ttotal: 2m 16s\tremaining: 2m 35s\n",
      "164:\tlearn: 0.6683239\ttotal: 2m 17s\tremaining: 2m 34s\n",
      "165:\tlearn: 0.6699780\ttotal: 2m 18s\tremaining: 2m 33s\n",
      "166:\tlearn: 0.6701103\ttotal: 2m 19s\tremaining: 2m 32s\n",
      "167:\tlearn: 0.6703750\ttotal: 2m 20s\tremaining: 2m 31s\n",
      "168:\tlearn: 0.6714808\ttotal: 2m 21s\tremaining: 2m 31s\n",
      "169:\tlearn: 0.6713201\ttotal: 2m 22s\tremaining: 2m 30s\n",
      "170:\tlearn: 0.6717549\ttotal: 2m 23s\tremaining: 2m 29s\n",
      "171:\tlearn: 0.6722181\ttotal: 2m 24s\tremaining: 2m 29s\n",
      "172:\tlearn: 0.6727001\ttotal: 2m 24s\tremaining: 2m 28s\n",
      "173:\tlearn: 0.6737493\ttotal: 2m 25s\tremaining: 2m 27s\n",
      "174:\tlearn: 0.6742786\ttotal: 2m 26s\tremaining: 2m 26s\n",
      "175:\tlearn: 0.6764809\ttotal: 2m 27s\tremaining: 2m 25s\n",
      "176:\tlearn: 0.6770007\ttotal: 2m 28s\tremaining: 2m 25s\n",
      "177:\tlearn: 0.6768400\ttotal: 2m 29s\tremaining: 2m 24s\n",
      "178:\tlearn: 0.6771236\ttotal: 2m 30s\tremaining: 2m 23s\n",
      "179:\tlearn: 0.6776056\ttotal: 2m 31s\tremaining: 2m 22s\n",
      "180:\tlearn: 0.6794866\ttotal: 2m 32s\tremaining: 2m 21s\n",
      "181:\tlearn: 0.6799592\ttotal: 2m 32s\tremaining: 2m 21s\n",
      "182:\tlearn: 0.6804979\ttotal: 2m 33s\tremaining: 2m 20s\n",
      "183:\tlearn: 0.6804412\ttotal: 2m 34s\tremaining: 2m 19s\n",
      "184:\tlearn: 0.6815093\ttotal: 2m 35s\tremaining: 2m 18s\n",
      "185:\tlearn: 0.6829743\ttotal: 2m 36s\tremaining: 2m 17s\n",
      "186:\tlearn: 0.6833902\ttotal: 2m 37s\tremaining: 2m 17s\n",
      "187:\tlearn: 0.6835698\ttotal: 2m 38s\tremaining: 2m 16s\n",
      "188:\tlearn: 0.6834375\ttotal: 2m 39s\tremaining: 2m 15s\n",
      "189:\tlearn: 0.6840235\ttotal: 2m 40s\tremaining: 2m 14s\n",
      "190:\tlearn: 0.6846095\ttotal: 2m 41s\tremaining: 2m 14s\n",
      "191:\tlearn: 0.6856208\ttotal: 2m 41s\tremaining: 2m 13s\n",
      "192:\tlearn: 0.6859611\ttotal: 2m 42s\tremaining: 2m 12s\n",
      "193:\tlearn: 0.6875679\ttotal: 2m 43s\tremaining: 2m 11s\n",
      "194:\tlearn: 0.6885320\ttotal: 2m 44s\tremaining: 2m 10s\n",
      "195:\tlearn: 0.6882863\ttotal: 2m 45s\tremaining: 2m 9s\n",
      "196:\tlearn: 0.6891086\ttotal: 2m 46s\tremaining: 2m 9s\n",
      "197:\tlearn: 0.6895623\ttotal: 2m 47s\tremaining: 2m 8s\n",
      "198:\tlearn: 0.6901767\ttotal: 2m 47s\tremaining: 2m 7s\n",
      "199:\tlearn: 0.6902806\ttotal: 2m 48s\tremaining: 2m 6s\n",
      "200:\tlearn: 0.6906965\ttotal: 2m 49s\tremaining: 2m 5s\n",
      "201:\tlearn: 0.6923317\ttotal: 2m 50s\tremaining: 2m 5s\n",
      "202:\tlearn: 0.6926530\ttotal: 2m 51s\tremaining: 2m 4s\n",
      "203:\tlearn: 0.6927854\ttotal: 2m 52s\tremaining: 2m 3s\n",
      "204:\tlearn: 0.6934470\ttotal: 2m 53s\tremaining: 2m 2s\n",
      "205:\tlearn: 0.6950538\ttotal: 2m 54s\tremaining: 2m 2s\n",
      "206:\tlearn: 0.6963771\ttotal: 2m 55s\tremaining: 2m 1s\n",
      "207:\tlearn: 0.6963582\ttotal: 2m 56s\tremaining: 2m\n",
      "208:\tlearn: 0.6973695\ttotal: 2m 57s\tremaining: 1m 59s\n",
      "209:\tlearn: 0.6972939\ttotal: 2m 58s\tremaining: 1m 58s\n",
      "210:\tlearn: 0.6992977\ttotal: 2m 59s\tremaining: 1m 57s\n",
      "211:\tlearn: 0.6989102\ttotal: 3m\tremaining: 1m 57s\n",
      "212:\tlearn: 0.6998743\ttotal: 3m\tremaining: 1m 56s\n",
      "213:\tlearn: 0.7000255\ttotal: 3m 1s\tremaining: 1m 55s\n",
      "214:\tlearn: 0.7009424\ttotal: 3m 2s\tremaining: 1m 54s\n",
      "215:\tlearn: 0.7003563\ttotal: 3m 3s\tremaining: 1m 53s\n",
      "216:\tlearn: 0.7009234\ttotal: 3m 4s\tremaining: 1m 53s\n",
      "217:\tlearn: 0.7020104\ttotal: 3m 5s\tremaining: 1m 52s\n",
      "218:\tlearn: 0.7024736\ttotal: 3m 6s\tremaining: 1m 51s\n",
      "219:\tlearn: 0.7029178\ttotal: 3m 7s\tremaining: 1m 50s\n",
      "220:\tlearn: 0.7045341\ttotal: 3m 8s\tremaining: 1m 50s\n",
      "221:\tlearn: 0.7042127\ttotal: 3m 9s\tremaining: 1m 49s\n",
      "222:\tlearn: 0.7059424\ttotal: 3m 10s\tremaining: 1m 48s\n",
      "223:\tlearn: 0.7071522\ttotal: 3m 11s\tremaining: 1m 47s\n",
      "224:\tlearn: 0.7063488\ttotal: 3m 12s\tremaining: 1m 46s\n",
      "225:\tlearn: 0.7070955\ttotal: 3m 13s\tremaining: 1m 45s\n",
      "226:\tlearn: 0.7077855\ttotal: 3m 14s\tremaining: 1m 45s\n",
      "227:\tlearn: 0.7077950\ttotal: 3m 14s\tremaining: 1m 44s\n",
      "228:\tlearn: 0.7076910\ttotal: 3m 15s\tremaining: 1m 43s\n",
      "229:\tlearn: 0.7078044\ttotal: 3m 16s\tremaining: 1m 42s\n",
      "230:\tlearn: 0.7080596\ttotal: 3m 17s\tremaining: 1m 41s\n",
      "231:\tlearn: 0.7083054\ttotal: 3m 19s\tremaining: 1m 41s\n",
      "232:\tlearn: 0.7092600\ttotal: 3m 19s\tremaining: 1m 40s\n",
      "233:\tlearn: 0.7098271\ttotal: 3m 20s\tremaining: 1m 39s\n",
      "234:\tlearn: 0.7111220\ttotal: 3m 21s\tremaining: 1m 38s\n",
      "235:\tlearn: 0.7120105\ttotal: 3m 22s\tremaining: 1m 37s\n",
      "236:\tlearn: 0.7123224\ttotal: 3m 23s\tremaining: 1m 37s\n",
      "237:\tlearn: 0.7129841\ttotal: 3m 24s\tremaining: 1m 36s\n",
      "238:\tlearn: 0.7142790\ttotal: 3m 25s\tremaining: 1m 35s\n",
      "239:\tlearn: 0.7141939\ttotal: 3m 26s\tremaining: 1m 34s\n",
      "240:\tlearn: 0.7146098\ttotal: 3m 27s\tremaining: 1m 33s\n",
      "241:\tlearn: 0.7151391\ttotal: 3m 28s\tremaining: 1m 32s\n",
      "242:\tlearn: 0.7153943\ttotal: 3m 29s\tremaining: 1m 32s\n",
      "243:\tlearn: 0.7164056\ttotal: 3m 30s\tremaining: 1m 31s\n",
      "244:\tlearn: 0.7162450\ttotal: 3m 30s\tremaining: 1m 30s\n",
      "245:\tlearn: 0.7167743\ttotal: 3m 31s\tremaining: 1m 29s\n",
      "246:\tlearn: 0.7171901\ttotal: 3m 32s\tremaining: 1m 28s\n",
      "247:\tlearn: 0.7175115\ttotal: 3m 33s\tremaining: 1m 27s\n",
      "248:\tlearn: 0.7177573\ttotal: 3m 34s\tremaining: 1m 27s\n",
      "249:\tlearn: 0.7180597\ttotal: 3m 35s\tremaining: 1m 26s\n",
      "250:\tlearn: 0.7182866\ttotal: 3m 36s\tremaining: 1m 25s\n",
      "251:\tlearn: 0.7187024\ttotal: 3m 37s\tremaining: 1m 24s\n",
      "252:\tlearn: 0.7194964\ttotal: 3m 38s\tremaining: 1m 23s\n",
      "253:\tlearn: 0.7194397\ttotal: 3m 39s\tremaining: 1m 23s\n",
      "254:\tlearn: 0.7199501\ttotal: 3m 40s\tremaining: 1m 22s\n",
      "255:\tlearn: 0.7206495\ttotal: 3m 41s\tremaining: 1m 21s\n",
      "256:\tlearn: 0.7204510\ttotal: 3m 42s\tremaining: 1m 20s\n",
      "257:\tlearn: 0.7209047\ttotal: 3m 43s\tremaining: 1m 19s\n",
      "258:\tlearn: 0.7211788\ttotal: 3m 44s\tremaining: 1m 18s\n",
      "259:\tlearn: 0.7206779\ttotal: 3m 45s\tremaining: 1m 17s\n",
      "260:\tlearn: 0.7209236\ttotal: 3m 45s\tremaining: 1m 17s\n",
      "261:\tlearn: 0.7216042\ttotal: 3m 46s\tremaining: 1m 16s\n",
      "262:\tlearn: 0.7219255\ttotal: 3m 48s\tremaining: 1m 15s\n",
      "263:\tlearn: 0.7226344\ttotal: 3m 49s\tremaining: 1m 14s\n",
      "264:\tlearn: 0.7228518\ttotal: 3m 49s\tremaining: 1m 13s\n",
      "265:\tlearn: 0.7228235\ttotal: 3m 50s\tremaining: 1m 12s\n",
      "266:\tlearn: 0.7231826\ttotal: 3m 51s\tremaining: 1m 12s\n",
      "267:\tlearn: 0.7237781\ttotal: 3m 52s\tremaining: 1m 11s\n",
      "268:\tlearn: 0.7237498\ttotal: 3m 53s\tremaining: 1m 10s\n",
      "269:\tlearn: 0.7242507\ttotal: 3m 54s\tremaining: 1m 9s\n",
      "270:\tlearn: 0.7255834\ttotal: 3m 55s\tremaining: 1m 8s\n",
      "271:\tlearn: 0.7262545\ttotal: 3m 56s\tremaining: 1m 7s\n",
      "272:\tlearn: 0.7268972\ttotal: 3m 57s\tremaining: 1m 6s\n",
      "273:\tlearn: 0.7277668\ttotal: 3m 57s\tremaining: 1m 5s\n",
      "274:\tlearn: 0.7289861\ttotal: 3m 58s\tremaining: 1m 5s\n",
      "275:\tlearn: 0.7295249\ttotal: 3m 59s\tremaining: 1m 4s\n",
      "276:\tlearn: 0.7307914\ttotal: 4m\tremaining: 1m 3s\n",
      "277:\tlearn: 0.7303755\ttotal: 4m 1s\tremaining: 1m 2s\n",
      "278:\tlearn: 0.7309993\ttotal: 4m 2s\tremaining: 1m 1s\n",
      "279:\tlearn: 0.7308009\ttotal: 4m 3s\tremaining: 1m\n",
      "280:\tlearn: 0.7316043\ttotal: 4m 4s\tremaining: 1m\n",
      "281:\tlearn: 0.7318973\ttotal: 4m 5s\tremaining: 59.2s\n",
      "282:\tlearn: 0.7315854\ttotal: 4m 6s\tremaining: 58.4s\n",
      "283:\tlearn: 0.7314247\ttotal: 4m 7s\tremaining: 57.6s\n",
      "284:\tlearn: 0.7331638\ttotal: 4m 8s\tremaining: 56.7s\n",
      "285:\tlearn: 0.7337026\ttotal: 4m 9s\tremaining: 55.8s\n",
      "286:\tlearn: 0.7338444\ttotal: 4m 10s\tremaining: 55s\n",
      "287:\tlearn: 0.7340996\ttotal: 4m 11s\tremaining: 54.1s\n",
      "288:\tlearn: 0.7341090\ttotal: 4m 12s\tremaining: 53.3s\n",
      "289:\tlearn: 0.7361695\ttotal: 4m 13s\tremaining: 52.4s\n",
      "290:\tlearn: 0.7356875\ttotal: 4m 14s\tremaining: 51.6s\n",
      "291:\tlearn: 0.7365003\ttotal: 4m 15s\tremaining: 50.7s\n",
      "292:\tlearn: 0.7375684\ttotal: 4m 15s\tremaining: 49.8s\n",
      "293:\tlearn: 0.7374172\ttotal: 4m 16s\tremaining: 48.9s\n",
      "294:\tlearn: 0.7376724\ttotal: 4m 17s\tremaining: 48s\n",
      "295:\tlearn: 0.7381261\ttotal: 4m 18s\tremaining: 47.1s\n",
      "296:\tlearn: 0.7397991\ttotal: 4m 19s\tremaining: 46.3s\n",
      "297:\tlearn: 0.7399314\ttotal: 4m 20s\tremaining: 45.4s\n",
      "298:\tlearn: 0.7398369\ttotal: 4m 21s\tremaining: 44.5s\n",
      "299:\tlearn: 0.7402433\ttotal: 4m 21s\tremaining: 43.6s\n",
      "300:\tlearn: 0.7411412\ttotal: 4m 22s\tremaining: 42.8s\n",
      "301:\tlearn: 0.7415477\ttotal: 4m 23s\tremaining: 41.9s\n",
      "302:\tlearn: 0.7427764\ttotal: 4m 24s\tremaining: 41s\n",
      "303:\tlearn: 0.7427764\ttotal: 4m 25s\tremaining: 40.1s\n",
      "304:\tlearn: 0.7433152\ttotal: 4m 26s\tremaining: 39.3s\n",
      "305:\tlearn: 0.7430789\ttotal: 4m 27s\tremaining: 38.4s\n",
      "306:\tlearn: 0.7433435\ttotal: 4m 27s\tremaining: 37.5s\n",
      "307:\tlearn: 0.7434853\ttotal: 4m 28s\tremaining: 36.7s\n",
      "308:\tlearn: 0.7445344\ttotal: 4m 29s\tremaining: 35.8s\n",
      "309:\tlearn: 0.7451205\ttotal: 4m 30s\tremaining: 34.9s\n"
     ]
    },
    {
     "name": "stdout",
     "output_type": "stream",
     "text": [
      "310:\tlearn: 0.7461129\ttotal: 4m 31s\tremaining: 34.1s\n",
      "311:\tlearn: 0.7463776\ttotal: 4m 32s\tremaining: 33.2s\n",
      "312:\tlearn: 0.7470297\ttotal: 4m 33s\tremaining: 32.4s\n",
      "313:\tlearn: 0.7476914\ttotal: 4m 34s\tremaining: 31.5s\n",
      "314:\tlearn: 0.7478143\ttotal: 4m 35s\tremaining: 30.6s\n",
      "315:\tlearn: 0.7489390\ttotal: 4m 36s\tremaining: 29.8s\n",
      "316:\tlearn: 0.7489012\ttotal: 4m 37s\tremaining: 28.9s\n",
      "317:\tlearn: 0.7486177\ttotal: 4m 38s\tremaining: 28s\n",
      "318:\tlearn: 0.7489957\ttotal: 4m 39s\tremaining: 27.1s\n",
      "319:\tlearn: 0.7501489\ttotal: 4m 40s\tremaining: 26.3s\n",
      "320:\tlearn: 0.7505648\ttotal: 4m 41s\tremaining: 25.4s\n",
      "321:\tlearn: 0.7517557\ttotal: 4m 41s\tremaining: 24.5s\n",
      "322:\tlearn: 0.7521243\ttotal: 4m 42s\tremaining: 23.6s\n",
      "323:\tlearn: 0.7526158\ttotal: 4m 43s\tremaining: 22.8s\n",
      "324:\tlearn: 0.7530506\ttotal: 4m 44s\tremaining: 21.9s\n",
      "325:\tlearn: 0.7546291\ttotal: 4m 45s\tremaining: 21s\n",
      "326:\tlearn: 0.7556971\ttotal: 4m 46s\tremaining: 20.1s\n",
      "327:\tlearn: 0.7568597\ttotal: 4m 47s\tremaining: 19.3s\n",
      "328:\tlearn: 0.7574363\ttotal: 4m 48s\tremaining: 18.4s\n",
      "329:\tlearn: 0.7576159\ttotal: 4m 49s\tremaining: 17.5s\n",
      "330:\tlearn: 0.7575402\ttotal: 4m 50s\tremaining: 16.6s\n",
      "331:\tlearn: 0.7580128\ttotal: 4m 51s\tremaining: 15.8s\n",
      "332:\tlearn: 0.7591849\ttotal: 4m 51s\tremaining: 14.9s\n",
      "333:\tlearn: 0.7595157\ttotal: 4m 52s\tremaining: 14s\n",
      "334:\tlearn: 0.7588730\ttotal: 4m 53s\tremaining: 13.2s\n",
      "335:\tlearn: 0.7600261\ttotal: 4m 54s\tremaining: 12.3s\n",
      "336:\tlearn: 0.7597425\ttotal: 4m 55s\tremaining: 11.4s\n",
      "337:\tlearn: 0.7599410\ttotal: 4m 56s\tremaining: 10.5s\n",
      "338:\tlearn: 0.7605270\ttotal: 4m 57s\tremaining: 9.65s\n",
      "339:\tlearn: 0.7611509\ttotal: 4m 58s\tremaining: 8.77s\n",
      "340:\tlearn: 0.7615289\ttotal: 4m 59s\tremaining: 7.89s\n",
      "341:\tlearn: 0.7612170\ttotal: 4m 59s\tremaining: 7.02s\n",
      "342:\tlearn: 0.7623134\ttotal: 5m 1s\tremaining: 6.14s\n",
      "343:\tlearn: 0.7627577\ttotal: 5m 2s\tremaining: 5.27s\n",
      "344:\tlearn: 0.7639959\ttotal: 5m 3s\tremaining: 4.39s\n",
      "345:\tlearn: 0.7639864\ttotal: 5m 4s\tremaining: 3.52s\n",
      "346:\tlearn: 0.7648182\ttotal: 5m 5s\tremaining: 2.64s\n",
      "347:\tlearn: 0.7647709\ttotal: 5m 6s\tremaining: 1.76s\n",
      "348:\tlearn: 0.7655838\ttotal: 5m 7s\tremaining: 880ms\n",
      "349:\tlearn: 0.7655743\ttotal: 5m 8s\tremaining: 0us\n",
      "CPU times: user 33min 39s, sys: 1min 6s, total: 34min 45s\n",
      "Wall time: 5min 8s\n"
     ]
    },
    {
     "data": {
      "text/plain": [
       "<catboost.core.CatBoostClassifier at 0x14b77c100>"
      ]
     },
     "execution_count": 32,
     "metadata": {},
     "output_type": "execute_result"
    }
   ],
   "source": [
    "%%time\n",
    "classifier = CatBoostClassifier(\n",
    "    cat_features=categorical_columns,\n",
    "    eval_metric='Accuracy', \n",
    "    n_estimators=350, \n",
    "    class_weights=class_weights,\n",
    "    random_seed=42)\n",
    "\n",
    "classifier.fit(train, target_classify)"
   ]
  },
  {
   "cell_type": "code",
   "execution_count": 33,
   "id": "df540360",
   "metadata": {},
   "outputs": [],
   "source": [
    "valid_pred = classifier.predict(valid).reshape(-1)\n",
    "valid_proba = pd.DataFrame(classifier.predict_proba(valid), columns=classifier.classes_)\n",
    "\n",
    "valid_pred[valid_proba[3.666667] > 0.7] = 1.01\n",
    "valid_pred[valid_proba[3.666667] <= 0.7] = 1"
   ]
  },
  {
   "cell_type": "code",
   "execution_count": 34,
   "id": "d778a8dd",
   "metadata": {},
   "outputs": [
    {
     "data": {
      "text/plain": [
       "id\n",
       "164403    4.444444\n",
       "40128     1.000000\n",
       "Name: demand, dtype: float64"
      ]
     },
     "execution_count": 34,
     "metadata": {},
     "output_type": "execute_result"
    }
   ],
   "source": [
    "valid_target[valid_pred > 1]"
   ]
  },
  {
   "cell_type": "code",
   "execution_count": 35,
   "id": "957e749e",
   "metadata": {},
   "outputs": [],
   "source": [
    "proba = pd.DataFrame(classifier.predict_proba(test), columns=classifier.classes_, index=test.index)"
   ]
  },
  {
   "cell_type": "code",
   "execution_count": 36,
   "id": "d98b768b",
   "metadata": {},
   "outputs": [
    {
     "data": {
      "text/plain": [
       "id\n",
       "200877    1.01\n",
       "202955    1.01\n",
       "202963    1.01\n",
       "Name: demand, dtype: float64"
      ]
     },
     "execution_count": 36,
     "metadata": {},
     "output_type": "execute_result"
    }
   ],
   "source": [
    "submission = pd.DataFrame(index=test.index)\n",
    "submission['demand'] = 1\n",
    "\n",
    "pred = submission['demand']\n",
    "pred[proba[3.666667] > 0.88] = 1.01\n",
    "\n",
    "submission['demand'] = pred\n",
    "submission.to_csv('submission.csv')\n",
    "\n",
    "pred[pred > 1]"
   ]
  },
  {
   "cell_type": "code",
   "execution_count": 37,
   "id": "a0c761de",
   "metadata": {},
   "outputs": [
    {
     "data": {
      "image/png": "[encoded data removed]",
      "text/plain": [
       "<Figure size 1600x1000 with 1 Axes>"
      ]
     },
     "metadata": {},
     "output_type": "display_data"
    }
   ],
   "source": [
    "fi = pd.DataFrame({'column': classifier.feature_names_, 'importance': classifier.feature_importances_})\n",
    "fi.sort_values('importance', ascending=True).tail(30).set_index('column').plot.barh(figsize=(16, 10))\n",
    "plt.ylabel('Importance', weight='bold', size=14)\n",
    "plt.xlabel('Column', weight='bold', size=14)\n",
    "plt.title('Feature Importance', weight='bold', size=18)\n",
    "plt.show()\n"
   ]
  },
  {
   "cell_type": "code",
   "execution_count": null,
   "id": "26a3902c",
   "metadata": {},
   "outputs": [],
   "source": []
  },
  {
   "cell_type": "code",
   "execution_count": null,
   "id": "a28edaf3",
   "metadata": {},
   "outputs": [],
   "source": []
  },
  {
   "cell_type": "code",
   "execution_count": null,
   "id": "c6d206be",
   "metadata": {},
   "outputs": [],
   "source": []
  }
 ],
 "metadata": {
  "kernelspec": {
   "display_name": "Python 3 (ipykernel)",
   "language": "python",
   "name": "python3"
  },
  "language_info": {
   "codemirror_mode": {
    "name": "ipython",
    "version": 3
   },
   "file_extension": ".py",
   "mimetype": "text/x-python",
   "name": "python",
   "nbconvert_exporter": "python",
   "pygments_lexer": "ipython3",
   "version": "3.10.7"
  }
 },
 "nbformat": 4,
 "nbformat_minor": 5
}
